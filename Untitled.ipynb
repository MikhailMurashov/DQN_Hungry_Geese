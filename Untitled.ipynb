{
 "cells": [
  {
   "cell_type": "code",
   "execution_count": 15,
   "metadata": {},
   "outputs": [],
   "source": [
    "import random\n",
    "from kaggle_environments import make\n",
    "\n",
    "import agents\n",
    "import helpers\n",
    "import config\n",
    "from model import goose_model"
   ]
  },
  {
   "cell_type": "code",
   "execution_count": 13,
   "metadata": {},
   "outputs": [],
   "source": [
    "env = make(\"hungry_geese\", debug=True)\n",
    "env.reset()\n",
    "\n",
    "trainer = env.train([None, \"random\"])\n",
    "\n",
    "model = goose_model(config.num_actions)"
   ]
  },
  {
   "cell_type": "code",
   "execution_count": null,
   "metadata": {},
   "outputs": [],
   "source": [
    "def env_step(env, trainer, iter_num):\n",
    "    random_step_chance = helpers.get_epsilon_for_iteration(iter_num)\n",
    "    action = choose_best_action(model, curr_state) if random.random() > random_step_chance else env.action_space.sample()\n",
    "\n",
    "    obs, reward, done, info = trainer.step(action)"
   ]
  },
  {
   "cell_type": "code",
   "execution_count": null,
   "metadata": {},
   "outputs": [],
   "source": []
  }
 ],
 "metadata": {
  "kernelspec": {
   "display_name": "Python 3",
   "language": "python",
   "name": "python3"
  },
  "language_info": {
   "codemirror_mode": {
    "name": "ipython",
    "version": 3
   },
   "file_extension": ".py",
   "mimetype": "text/x-python",
   "name": "python",
   "nbconvert_exporter": "python",
   "pygments_lexer": "ipython3",
   "version": "3.7.7"
  }
 },
 "nbformat": 4,
 "nbformat_minor": 4
}
